{
 "cells": [
  {
   "cell_type": "code",
   "execution_count": 11,
   "metadata": {},
   "outputs": [],
   "source": [
    "import pandas as pd\n",
    "import glob\n",
    "import numpy as np"
   ]
  },
  {
   "cell_type": "code",
   "execution_count": 12,
   "metadata": {},
   "outputs": [],
   "source": [
    "path = \"../Data/Uber_Movement/Monthly/\"\n",
    "extension = 'csv'\n",
    "UM_monthly_files_all = [i for i in glob.glob(path + '*.{}'.format(extension))]\n",
    "# print(len(UM_monthly_files_all))\n",
    "UM_monthly_data = pd.concat([pd.read_csv(f, index_col = None, header = 0) for f in UM_monthly_files_all], axis = 0, ignore_index = True)"
   ]
  },
  {
   "cell_type": "code",
   "execution_count": 13,
   "metadata": {},
   "outputs": [
    {
     "data": {
      "text/plain": [
       "(3143535, 7)"
      ]
     },
     "execution_count": 13,
     "metadata": {},
     "output_type": "execute_result"
    }
   ],
   "source": [
    "UM_monthly_data.shape"
   ]
  },
  {
   "cell_type": "code",
   "execution_count": 14,
   "metadata": {},
   "outputs": [
    {
     "data": {
      "text/html": [
       "<div>\n",
       "<style scoped>\n",
       "    .dataframe tbody tr th:only-of-type {\n",
       "        vertical-align: middle;\n",
       "    }\n",
       "\n",
       "    .dataframe tbody tr th {\n",
       "        vertical-align: top;\n",
       "    }\n",
       "\n",
       "    .dataframe thead th {\n",
       "        text-align: right;\n",
       "    }\n",
       "</style>\n",
       "<table border=\"1\" class=\"dataframe\">\n",
       "  <thead>\n",
       "    <tr style=\"text-align: right;\">\n",
       "      <th></th>\n",
       "      <th>sourceid</th>\n",
       "      <th>dstid</th>\n",
       "      <th>month</th>\n",
       "      <th>mean_travel_time</th>\n",
       "      <th>standard_deviation_travel_time</th>\n",
       "      <th>geometric_mean_travel_time</th>\n",
       "      <th>geometric_standard_deviation_travel_time</th>\n",
       "    </tr>\n",
       "  </thead>\n",
       "  <tbody>\n",
       "    <tr>\n",
       "      <td>0</td>\n",
       "      <td>166</td>\n",
       "      <td>139</td>\n",
       "      <td>4</td>\n",
       "      <td>2615.30</td>\n",
       "      <td>916.63</td>\n",
       "      <td>2449.80</td>\n",
       "      <td>1.45</td>\n",
       "    </tr>\n",
       "    <tr>\n",
       "      <td>1</td>\n",
       "      <td>28</td>\n",
       "      <td>130</td>\n",
       "      <td>4</td>\n",
       "      <td>1939.36</td>\n",
       "      <td>566.48</td>\n",
       "      <td>1858.46</td>\n",
       "      <td>1.36</td>\n",
       "    </tr>\n",
       "    <tr>\n",
       "      <td>2</td>\n",
       "      <td>181</td>\n",
       "      <td>88</td>\n",
       "      <td>4</td>\n",
       "      <td>2393.13</td>\n",
       "      <td>925.83</td>\n",
       "      <td>2204.99</td>\n",
       "      <td>1.52</td>\n",
       "    </tr>\n",
       "    <tr>\n",
       "      <td>3</td>\n",
       "      <td>25</td>\n",
       "      <td>34</td>\n",
       "      <td>4</td>\n",
       "      <td>1597.22</td>\n",
       "      <td>550.64</td>\n",
       "      <td>1510.31</td>\n",
       "      <td>1.40</td>\n",
       "    </tr>\n",
       "    <tr>\n",
       "      <td>4</td>\n",
       "      <td>34</td>\n",
       "      <td>139</td>\n",
       "      <td>4</td>\n",
       "      <td>3371.34</td>\n",
       "      <td>831.90</td>\n",
       "      <td>3261.61</td>\n",
       "      <td>1.30</td>\n",
       "    </tr>\n",
       "  </tbody>\n",
       "</table>\n",
       "</div>"
      ],
      "text/plain": [
       "   sourceid  dstid  month  mean_travel_time  standard_deviation_travel_time  \\\n",
       "0       166    139      4           2615.30                          916.63   \n",
       "1        28    130      4           1939.36                          566.48   \n",
       "2       181     88      4           2393.13                          925.83   \n",
       "3        25     34      4           1597.22                          550.64   \n",
       "4        34    139      4           3371.34                          831.90   \n",
       "\n",
       "   geometric_mean_travel_time  geometric_standard_deviation_travel_time  \n",
       "0                     2449.80                                      1.45  \n",
       "1                     1858.46                                      1.36  \n",
       "2                     2204.99                                      1.52  \n",
       "3                     1510.31                                      1.40  \n",
       "4                     3261.61                                      1.30  "
      ]
     },
     "execution_count": 14,
     "metadata": {},
     "output_type": "execute_result"
    }
   ],
   "source": [
    "UM_monthly_data.head()"
   ]
  },
  {
   "cell_type": "code",
   "execution_count": 15,
   "metadata": {},
   "outputs": [],
   "source": [
    "rainfall_monthly_average = [1, \n",
    "                            7.5, \n",
    "                            22.6, \n",
    "                            85.6, \n",
    "                            124.8, \n",
    "                            94.8, \n",
    "                            138.3, \n",
    "                            170, \n",
    "                            176.6, \n",
    "                            116.9, \n",
    "                            79.2, \n",
    "                            11.2]"
   ]
  },
  {
   "cell_type": "code",
   "execution_count": 16,
   "metadata": {},
   "outputs": [
    {
     "name": "stdout",
     "output_type": "stream",
     "text": [
      "[49.28594283624604, 74.38716073315021, 0.0, 19.266708958268186, 101.83608607136243, 200.0, 134.63020419554675, 171.30734901432953, 163.89782486687125, 141.9113595133244, 92.2021463701452, 125.50433178846379]\n"
     ]
    }
   ],
   "source": [
    "UM_monthly_average = list(UM_monthly_data.groupby('month')['mean_travel_time'].mean())\n",
    "lower, upper = 0, 200\n",
    "mini = min(UM_monthly_average)\n",
    "maxi= max(UM_monthly_average)\n",
    "UM_monthly_average_normalized = [lower + (upper-lower)*((x-mini)/(maxi-mini)) for x in UM_monthly_average]\n",
    "print(UM_monthly_average_normalized)"
   ]
  },
  {
   "cell_type": "code",
   "execution_count": 20,
   "metadata": {},
   "outputs": [
    {
     "data": {
      "image/png": "[encoded data removed]",
      "text/plain": [
       "<Figure size 432x288 with 1 Axes>"
      ]
     },
     "metadata": {
      "needs_background": "light"
     },
     "output_type": "display_data"
    }
   ],
   "source": [
    "import matplotlib\n",
    "import matplotlib.pyplot as plt\n",
    "%matplotlib inline\n",
    "\n",
    "plt.plot(rainfall_monthly_average, label = 'Rainfall')\n",
    "plt.plot(UM_monthly_average_normalized, label = 'Traffic')\n",
    " \n",
    "plt.title(\"Seasonal Variability of Flooding with Traffic (Normalized)\")\n",
    "plt.xlabel(\"Month\")\n",
    "plt.xticks(np.arange(12), ['jan', 'feb', 'mar', 'apr', 'may', 'jun', 'jul', 'aug', 'sep', 'oct', 'nov', 'dec'])\n",
    "plt.legend()\n",
    "plt.show()"
   ]
  },
  {
   "cell_type": "code",
   "execution_count": 9,
   "metadata": {},
   "outputs": [
    {
     "data": {
      "image/png": "[encoded data removed]",
      "text/plain": [
       "<Figure size 432x288 with 1 Axes>"
      ]
     },
     "metadata": {},
     "output_type": "display_data"
    }
   ],
   "source": [
    "matplotlib.style.use('ggplot')\n",
    "\n",
    "plt.scatter(UM_monthly_average, rainfall_monthly_average)\n",
    "plt.title(\"Correlation Plot\")\n",
    "plt.xlabel(\"Traffic (in mins)\")\n",
    "plt.ylabel(\"Rainfall (in mm)\")\n",
    "plt.show()"
   ]
  },
  {
   "cell_type": "code",
   "execution_count": null,
   "metadata": {},
   "outputs": [],
   "source": []
  }
 ],
 "metadata": {
  "kernelspec": {
   "display_name": "Python 3",
   "language": "python",
   "name": "python3"
  },
  "language_info": {
   "codemirror_mode": {
    "name": "ipython",
    "version": 3
   },
   "file_extension": ".py",
   "mimetype": "text/x-python",
   "name": "python",
   "nbconvert_exporter": "python",
   "pygments_lexer": "ipython3",
   "version": "3.7.4"
  }
 },
 "nbformat": 4,
 "nbformat_minor": 2
}
